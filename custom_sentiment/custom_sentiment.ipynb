{
 "cells": [
  {
   "cell_type": "markdown",
   "metadata": {},
   "source": [
    "# Let's compare 4 different strategies to solve sentiment analysis:\n",
    "\n",
    "1. **Custom model using open source package**. Build a custom model using scikit-learn and TF-IDF features on n-grams. This method is known to work well for English text.\n",
    "2. **Integrate** a pre-built API. The \"sentiment HQ\" API provided by indico has been shown to achieve state-of-the-art accuracy, using a recurrent neural network.\n",
    "3. **Word-level features**. A custom model, built from word-level text features from indico's \"text features\" API.\n",
    "4. **RNN features**. A custom model, using transfer learning, using the recurrent features from indico's sentiment HQ model to train a new custom model.\n",
    "\n",
    "Note: this notebook and the enclosed code snippets accompany the KDnuggets post:\n",
    "### Semi-supervised feature transfer: the big practical benefit of deep learning today?\n",
    "<img src=\"header.jpg\">"
   ]
  },
  {
   "cell_type": "markdown",
   "metadata": {},
   "source": [
    "### Download the data\n",
    "\n",
    "1. Download the \"Large Movie Review Dataset\" from http://ai.stanford.edu/~amaas/data/sentiment/. \n",
    "2. Decompress it.\n",
    "3. Put it into some directory path that you define below.\n",
    "\n",
    "Citation: Andrew L. Maas, Raymond E. Daly, Peter T. Pham, Dan Huang, Andrew Y. Ng, and Christopher Potts. (2011). Learning Word Vectors for Sentiment Analysis. The 49th Annual Meeting of the Association for Computational Linguistics (ACL 2011)."
   ]
  },
  {
   "cell_type": "markdown",
   "metadata": {},
   "source": [
    "### User parameters"
   ]
  },
  {
   "cell_type": "code",
   "execution_count": 1,
   "metadata": {
    "collapsed": true
   },
   "outputs": [],
   "source": [
    "seed = 3          # for reproducibility across experiments, just pick something\n",
    "train_num = 100   # number of training examples to use\n",
    "test_num = 100    # number of examples to use for testing\n",
    "base_model_name = \"sentiment_train%s_test%s\" % (train_num, test_num)\n",
    "lab2bin = {'pos': 1, 'neg': 0}  # label -> binary class\n",
    "pos_path = \"~DATASETS/aclImdb/train/pos/\"  # filepath to the positive examples\n",
    "neg_path = \"~DATASETS/aclImdb/train/neg/\" # file path to the negative examples\n",
    "output_path = \"CUSTOM_SENTIMENT_OUTPUT\"   # path where output file should go\n",
    "batchsize = 25  # send this many requests at once\n",
    "max_num_examples = 25000.0   # for making subsets below"
   ]
  },
  {
   "cell_type": "markdown",
   "metadata": {},
   "source": [
    "### Setup and imports\n",
    "Install modules as needed (for example: `pip install indicoio`)"
   ]
  },
  {
   "cell_type": "code",
   "execution_count": 2,
   "metadata": {
    "collapsed": false
   },
   "outputs": [],
   "source": [
    "import os, io, glob, random, time\n",
    "# from itertools import islice, chain, izip_longest\n",
    "import numpy as np\n",
    "import pandas as pd\n",
    "from tqdm import tqdm\n",
    "import pprint\n",
    "pp = pprint.PrettyPrinter(indent=4)\n",
    "\n",
    "import indicoio\n",
    "from indicoio.custom import Collection\n",
    "from indicoio.custom import collections as check_status\n",
    "\n",
    "import sklearn\n",
    "from sklearn import metrics\n",
    "from sklearn import linear_model\n",
    "from sklearn.feature_extraction.text import TfidfVectorizer\n",
    "from sklearn.pipeline import Pipeline\n",
    "\n",
    "import matplotlib.pyplot as plt  # for plotting results\n",
    "%matplotlib inline\n",
    "import seaborn   # just for the colors"
   ]
  },
  {
   "cell_type": "markdown",
   "metadata": {},
   "source": [
    "### Define your indico API key\n",
    "If you don't have a (free) API key, you can [get one here](https://indico.io/pay-per-call). Your first 10,000 calls per months are free."
   ]
  },
  {
   "cell_type": "code",
   "execution_count": 3,
   "metadata": {
    "collapsed": true
   },
   "outputs": [],
   "source": [
    "indicoio.config.api_key = \"\"  # Add your API key here"
   ]
  },
  {
   "cell_type": "markdown",
   "metadata": {},
   "source": [
    "### Convenience function for making batches of examples"
   ]
  },
  {
   "cell_type": "code",
   "execution_count": 4,
   "metadata": {
    "collapsed": true
   },
   "outputs": [],
   "source": [
    "def batcher(seq, stride = 4):\n",
    "    \"\"\"\n",
    "    Generator strides across the input sequence, \n",
    "    combining the elements between each stride.\n",
    "    \"\"\"\n",
    "    for pos in xrange(0, len(seq), stride):\n",
    "        yield seq[pos : pos + stride] "
   ]
  },
  {
   "cell_type": "code",
   "execution_count": 5,
   "metadata": {
    "collapsed": true
   },
   "outputs": [],
   "source": [
    "# for making subsets below\n",
    "train_subset = (train_num / 25000.0)\n",
    "test_subset =  (test_num / 25000.0)"
   ]
  },
  {
   "cell_type": "code",
   "execution_count": 6,
   "metadata": {
    "collapsed": true
   },
   "outputs": [],
   "source": [
    "random.seed(seed)\n",
    "np.random.seed(seed)"
   ]
  },
  {
   "cell_type": "markdown",
   "metadata": {},
   "source": [
    "### Check that the requested paths exist"
   ]
  },
  {
   "cell_type": "code",
   "execution_count": 7,
   "metadata": {
    "collapsed": false
   },
   "outputs": [
    {
     "name": "stdout",
     "output_type": "stream",
     "text": [
      "/Users/djk/DATASETS/SENTIMENT/aclImdb/train/pos\n",
      "/Users/djk/DATASETS/SENTIMENT/aclImdb/train/neg\n",
      "/Users/djk/Documents/INDICO/CONTENT/KDN/CUSTOM_SENTIMENT_OUTPUT\n"
     ]
    }
   ],
   "source": [
    "# check that paths exist\n",
    "for p in [pos_path, neg_path]:\n",
    "    abs_path = os.path.abspath(p)\n",
    "    if not os.path.exists(abs_path): \n",
    "        os.makedirs(abs_path)    \n",
    "    print(abs_path)\n",
    "for p in [output_path]:\n",
    "    abs_path = os.path.abspath(p)\n",
    "    if not os.path.exists(abs_path):  # and make output path if necessary\n",
    "        os.makedirs(abs_path)\n",
    "    print(abs_path)"
   ]
  },
  {
   "cell_type": "markdown",
   "metadata": {},
   "source": [
    "### Query indico API to make sure everything is plumbed up correctly"
   ]
  },
  {
   "cell_type": "code",
   "execution_count": 8,
   "metadata": {
    "collapsed": false
   },
   "outputs": [],
   "source": [
    "# pre_status = check_status()\n",
    "# pp.pprint(pre_status)"
   ]
  },
  {
   "cell_type": "markdown",
   "metadata": {},
   "source": [
    "### Read data into a list of dictionary objects\n",
    "where each dictionary object will be a single example. This makes it easy to manipulate later using dataframes, for cross-validation, visualization, etc."
   ]
  },
  {
   "cell_type": "markdown",
   "metadata": {},
   "source": [
    "### This dataset has pre-defined train/test splits\n",
    "so rather than sampling our own, we'll use the existing splits to enable fair comparison with other published results."
   ]
  },
  {
   "cell_type": "code",
   "execution_count": 9,
   "metadata": {
    "collapsed": true
   },
   "outputs": [],
   "source": [
    "train_data = []  # these lists will contain a bunch of little dictionaries, one for each example\n",
    "test_data = []"
   ]
  },
  {
   "cell_type": "code",
   "execution_count": 10,
   "metadata": {
    "collapsed": false
   },
   "outputs": [
    {
     "name": "stdout",
     "output_type": "stream",
     "text": [
      "Read 12500 positive training examples, of 12500 available (100.00%)\n"
     ]
    }
   ],
   "source": [
    "# Positive examples (train)\n",
    "examples = glob.glob(os.path.join(pos_path, \"*\"))  # find all the positive examples, and read them\n",
    "i = 0\n",
    "for ex in examples:\n",
    "    d = {}\n",
    "    with open(ex, 'rb') as f:\n",
    "        d['label'] = 'pos'    # label as \"pos\"\n",
    "        t = f.read().lower()  # these files are already ascii text, so just lowercase them\n",
    "        d['text'] = t     \n",
    "        d['pred_label'] = None   # placeholder for predicted label\n",
    "        d['prob_pos'] = None     # placeholder for predicted probability of a positive label\n",
    "    train_data.append(d)  # add example to the list of training data\n",
    "    i +=1\n",
    "print(\"Read %d positive training examples, of %d available (%.2f%%)\" % (i, len(examples), (100.0*i)/len(examples)))"
   ]
  },
  {
   "cell_type": "code",
   "execution_count": 11,
   "metadata": {
    "collapsed": false
   },
   "outputs": [
    {
     "name": "stdout",
     "output_type": "stream",
     "text": [
      "Read 12500 negative training examples, of 12500 available (100.00%)\n"
     ]
    }
   ],
   "source": [
    "# Negative examples (train)\n",
    "examples = glob.glob(os.path.join(neg_path, \"*\"))  # find all the negative examples and read them\n",
    "i = 0\n",
    "for ex in examples:\n",
    "    d = {}\n",
    "    with open(ex, 'rb') as f:\n",
    "        d['label'] = 'neg'\n",
    "        t = f.read().lower()\n",
    "        d['text'] = t\n",
    "        d['pred_label'] = None\n",
    "        d['prob_pos'] = None\n",
    "    train_data.append(d)\n",
    "    i +=1\n",
    "print(\"Read %d negative training examples, of %d available (%.2f%%)\" % (i, len(examples), (100.0*i)/len(examples)))"
   ]
  },
  {
   "cell_type": "code",
   "execution_count": 12,
   "metadata": {
    "collapsed": false
   },
   "outputs": [
    {
     "name": "stdout",
     "output_type": "stream",
     "text": [
      "Read 12500 positive test examples, of 12500 available (100.00%)\n"
     ]
    }
   ],
   "source": [
    "# Positive examples (test)\n",
    "examples = glob.glob(os.path.join(pos_path, \"*\"))\n",
    "i = 0\n",
    "for ex in examples:\n",
    "    d = {}\n",
    "    with open(ex, 'rb') as f:\n",
    "        d['label'] = 'pos'\n",
    "        t = f.read().lower()  # these files are already ascii text\n",
    "        d['text'] = t\n",
    "        d['pred_label'] = None\n",
    "        d['prob_pos'] = None\n",
    "    test_data.append(d)\n",
    "    i +=1\n",
    "print(\"Read %d positive test examples, of %d available (%.2f%%)\" % (i, len(examples), (100.0*i)/len(examples)))"
   ]
  },
  {
   "cell_type": "code",
   "execution_count": 13,
   "metadata": {
    "collapsed": false
   },
   "outputs": [
    {
     "name": "stdout",
     "output_type": "stream",
     "text": [
      "Read 12500 negative examples, of 12500 available (100.00%)\n"
     ]
    }
   ],
   "source": [
    "# Negative examples (test)\n",
    "examples = glob.glob(os.path.join(neg_path, \"*\"))\n",
    "i = 0\n",
    "for ex in examples:\n",
    "    d = {}\n",
    "    with open(ex, 'rb') as f:\n",
    "        d['label'] = 'neg'\n",
    "        t = f.read().lower()  # these files are already ascii text\n",
    "        d['text'] = t\n",
    "        d['pred_label'] = None\n",
    "        d['prob_pos'] = None\n",
    "    test_data.append(d)\n",
    "    i +=1\n",
    "print(\"Read %d negative examples, of %d available (%.2f%%)\" % (i, len(examples), (100.0*i)/len(examples)))"
   ]
  },
  {
   "cell_type": "code",
   "execution_count": 14,
   "metadata": {
    "collapsed": false
   },
   "outputs": [
    {
     "name": "stdout",
     "output_type": "stream",
     "text": [
      "After resampling, down to 100 training records\n",
      "After resampling, down to 100 test records\n"
     ]
    }
   ],
   "source": [
    "# Populate a dataframe, shuffle, and subset as required\n",
    "df_train = pd.DataFrame(train_data)\n",
    "df_train = df_train.sample(frac = train_subset) # shuffle (by sampling everything randomly)\n",
    "print(\"After resampling, down to %d training records\" % len(df_train))\n",
    "\n",
    "df_test = pd.DataFrame(test_data)\n",
    "df_test = df_test.sample(frac = test_subset) # shuffle (by sampling everything randomly)\n",
    "print(\"After resampling, down to %d test records\" % len(df_test))"
   ]
  },
  {
   "cell_type": "markdown",
   "metadata": {},
   "source": [
    "### Quick sanity check on the data, is everything as expected?"
   ]
  },
  {
   "cell_type": "code",
   "execution_count": 15,
   "metadata": {
    "collapsed": false
   },
   "outputs": [
    {
     "data": {
      "text/html": [
       "<div>\n",
       "<table border=\"1\" class=\"dataframe\">\n",
       "  <thead>\n",
       "    <tr style=\"text-align: right;\">\n",
       "      <th></th>\n",
       "      <th>label</th>\n",
       "      <th>pred_label</th>\n",
       "      <th>prob_pos</th>\n",
       "      <th>text</th>\n",
       "    </tr>\n",
       "  </thead>\n",
       "  <tbody>\n",
       "    <tr>\n",
       "      <th>22820</th>\n",
       "      <td>neg</td>\n",
       "      <td>None</td>\n",
       "      <td>None</td>\n",
       "      <td>this mindless movie is a piece of crap and bor...</td>\n",
       "    </tr>\n",
       "    <tr>\n",
       "      <th>10049</th>\n",
       "      <td>pos</td>\n",
       "      <td>None</td>\n",
       "      <td>None</td>\n",
       "      <td>this was the first movie i ever saw ashley jud...</td>\n",
       "    </tr>\n",
       "    <tr>\n",
       "      <th>24071</th>\n",
       "      <td>neg</td>\n",
       "      <td>None</td>\n",
       "      <td>None</td>\n",
       "      <td>there are no spoilers in this review because e...</td>\n",
       "    </tr>\n",
       "    <tr>\n",
       "      <th>5028</th>\n",
       "      <td>pos</td>\n",
       "      <td>None</td>\n",
       "      <td>None</td>\n",
       "      <td>49. paperhouse (thriller/horror, 1988) sick in...</td>\n",
       "    </tr>\n",
       "    <tr>\n",
       "      <th>17536</th>\n",
       "      <td>neg</td>\n",
       "      <td>None</td>\n",
       "      <td>None</td>\n",
       "      <td>ok we all love the daisy dukes, but what is up...</td>\n",
       "    </tr>\n",
       "    <tr>\n",
       "      <th>20073</th>\n",
       "      <td>neg</td>\n",
       "      <td>None</td>\n",
       "      <td>None</td>\n",
       "      <td>okay, i rented this movie because of the direc...</td>\n",
       "    </tr>\n",
       "    <tr>\n",
       "      <th>21110</th>\n",
       "      <td>neg</td>\n",
       "      <td>None</td>\n",
       "      <td>None</td>\n",
       "      <td>this movie was awful. the ending was absolutel...</td>\n",
       "    </tr>\n",
       "    <tr>\n",
       "      <th>21754</th>\n",
       "      <td>neg</td>\n",
       "      <td>None</td>\n",
       "      <td>None</td>\n",
       "      <td>\"feast of all saints?\" where...? when...?&lt;br /...</td>\n",
       "    </tr>\n",
       "    <tr>\n",
       "      <th>22626</th>\n",
       "      <td>neg</td>\n",
       "      <td>None</td>\n",
       "      <td>None</td>\n",
       "      <td>last year's remake of 'the hills have eyes' wa...</td>\n",
       "    </tr>\n",
       "    <tr>\n",
       "      <th>6147</th>\n",
       "      <td>pos</td>\n",
       "      <td>None</td>\n",
       "      <td>None</td>\n",
       "      <td>a milestone in eastern european film making an...</td>\n",
       "    </tr>\n",
       "  </tbody>\n",
       "</table>\n",
       "</div>"
      ],
      "text/plain": [
       "      label pred_label prob_pos  \\\n",
       "22820   neg       None     None   \n",
       "10049   pos       None     None   \n",
       "24071   neg       None     None   \n",
       "5028    pos       None     None   \n",
       "17536   neg       None     None   \n",
       "20073   neg       None     None   \n",
       "21110   neg       None     None   \n",
       "21754   neg       None     None   \n",
       "22626   neg       None     None   \n",
       "6147    pos       None     None   \n",
       "\n",
       "                                                    text  \n",
       "22820  this mindless movie is a piece of crap and bor...  \n",
       "10049  this was the first movie i ever saw ashley jud...  \n",
       "24071  there are no spoilers in this review because e...  \n",
       "5028   49. paperhouse (thriller/horror, 1988) sick in...  \n",
       "17536  ok we all love the daisy dukes, but what is up...  \n",
       "20073  okay, i rented this movie because of the direc...  \n",
       "21110  this movie was awful. the ending was absolutel...  \n",
       "21754  \"feast of all saints?\" where...? when...?<br /...  \n",
       "22626  last year's remake of 'the hills have eyes' wa...  \n",
       "6147   a milestone in eastern european film making an...  "
      ]
     },
     "execution_count": 15,
     "metadata": {},
     "output_type": "execute_result"
    }
   ],
   "source": [
    "df_train.head(10)  # sanity check"
   ]
  },
  {
   "cell_type": "code",
   "execution_count": 16,
   "metadata": {
    "collapsed": false
   },
   "outputs": [
    {
     "data": {
      "text/html": [
       "<div>\n",
       "<table border=\"1\" class=\"dataframe\">\n",
       "  <thead>\n",
       "    <tr style=\"text-align: right;\">\n",
       "      <th></th>\n",
       "      <th>label</th>\n",
       "      <th>pred_label</th>\n",
       "      <th>prob_pos</th>\n",
       "      <th>text</th>\n",
       "    </tr>\n",
       "  </thead>\n",
       "  <tbody>\n",
       "    <tr>\n",
       "      <th>3871</th>\n",
       "      <td>pos</td>\n",
       "      <td>None</td>\n",
       "      <td>None</td>\n",
       "      <td>while the 'special effects' and technical attr...</td>\n",
       "    </tr>\n",
       "    <tr>\n",
       "      <th>11261</th>\n",
       "      <td>pos</td>\n",
       "      <td>None</td>\n",
       "      <td>None</td>\n",
       "      <td>as i saw the movie i was really shocked to see...</td>\n",
       "    </tr>\n",
       "    <tr>\n",
       "      <th>172</th>\n",
       "      <td>pos</td>\n",
       "      <td>None</td>\n",
       "      <td>None</td>\n",
       "      <td>i just can't understand the negative comments ...</td>\n",
       "    </tr>\n",
       "    <tr>\n",
       "      <th>20286</th>\n",
       "      <td>neg</td>\n",
       "      <td>None</td>\n",
       "      <td>None</td>\n",
       "      <td>this is the third parody of the scary movies a...</td>\n",
       "    </tr>\n",
       "    <tr>\n",
       "      <th>11584</th>\n",
       "      <td>pos</td>\n",
       "      <td>None</td>\n",
       "      <td>None</td>\n",
       "      <td>i have to say that this miniseries was the bes...</td>\n",
       "    </tr>\n",
       "    <tr>\n",
       "      <th>12807</th>\n",
       "      <td>neg</td>\n",
       "      <td>None</td>\n",
       "      <td>None</td>\n",
       "      <td>i feel totally ripped off. someone needs to re...</td>\n",
       "    </tr>\n",
       "    <tr>\n",
       "      <th>15515</th>\n",
       "      <td>neg</td>\n",
       "      <td>None</td>\n",
       "      <td>None</td>\n",
       "      <td>i watched this hoping to find out something i ...</td>\n",
       "    </tr>\n",
       "    <tr>\n",
       "      <th>20147</th>\n",
       "      <td>neg</td>\n",
       "      <td>None</td>\n",
       "      <td>None</td>\n",
       "      <td>italian-born eleonora has inherited from her d...</td>\n",
       "    </tr>\n",
       "    <tr>\n",
       "      <th>19163</th>\n",
       "      <td>neg</td>\n",
       "      <td>None</td>\n",
       "      <td>None</td>\n",
       "      <td>i thought the movie (especially the plot) need...</td>\n",
       "    </tr>\n",
       "    <tr>\n",
       "      <th>4201</th>\n",
       "      <td>pos</td>\n",
       "      <td>None</td>\n",
       "      <td>None</td>\n",
       "      <td>really good horror flick featuring to of the g...</td>\n",
       "    </tr>\n",
       "  </tbody>\n",
       "</table>\n",
       "</div>"
      ],
      "text/plain": [
       "      label pred_label prob_pos  \\\n",
       "3871    pos       None     None   \n",
       "11261   pos       None     None   \n",
       "172     pos       None     None   \n",
       "20286   neg       None     None   \n",
       "11584   pos       None     None   \n",
       "12807   neg       None     None   \n",
       "15515   neg       None     None   \n",
       "20147   neg       None     None   \n",
       "19163   neg       None     None   \n",
       "4201    pos       None     None   \n",
       "\n",
       "                                                    text  \n",
       "3871   while the 'special effects' and technical attr...  \n",
       "11261  as i saw the movie i was really shocked to see...  \n",
       "172    i just can't understand the negative comments ...  \n",
       "20286  this is the third parody of the scary movies a...  \n",
       "11584  i have to say that this miniseries was the bes...  \n",
       "12807  i feel totally ripped off. someone needs to re...  \n",
       "15515  i watched this hoping to find out something i ...  \n",
       "20147  italian-born eleonora has inherited from her d...  \n",
       "19163  i thought the movie (especially the plot) need...  \n",
       "4201   really good horror flick featuring to of the g...  "
      ]
     },
     "execution_count": 16,
     "metadata": {},
     "output_type": "execute_result"
    }
   ],
   "source": [
    "df_train.tail(10)"
   ]
  },
  {
   "cell_type": "code",
   "execution_count": 17,
   "metadata": {
    "collapsed": false
   },
   "outputs": [
    {
     "data": {
      "text/html": [
       "<div>\n",
       "<table border=\"1\" class=\"dataframe\">\n",
       "  <thead>\n",
       "    <tr style=\"text-align: right;\">\n",
       "      <th></th>\n",
       "      <th>label</th>\n",
       "      <th>pred_label</th>\n",
       "      <th>prob_pos</th>\n",
       "      <th>text</th>\n",
       "    </tr>\n",
       "  </thead>\n",
       "  <tbody>\n",
       "    <tr>\n",
       "      <th>9443</th>\n",
       "      <td>pos</td>\n",
       "      <td>None</td>\n",
       "      <td>None</td>\n",
       "      <td>the movie is just plain fun....maybe more fun ...</td>\n",
       "    </tr>\n",
       "    <tr>\n",
       "      <th>20401</th>\n",
       "      <td>neg</td>\n",
       "      <td>None</td>\n",
       "      <td>None</td>\n",
       "      <td>well to answer one persons's question of \"why ...</td>\n",
       "    </tr>\n",
       "    <tr>\n",
       "      <th>8131</th>\n",
       "      <td>pos</td>\n",
       "      <td>None</td>\n",
       "      <td>None</td>\n",
       "      <td>.......playing kaddiddlehopper, col san fernan...</td>\n",
       "    </tr>\n",
       "    <tr>\n",
       "      <th>17317</th>\n",
       "      <td>neg</td>\n",
       "      <td>None</td>\n",
       "      <td>None</td>\n",
       "      <td>i once thought that \"the stoned age\" was the w...</td>\n",
       "    </tr>\n",
       "    <tr>\n",
       "      <th>22090</th>\n",
       "      <td>neg</td>\n",
       "      <td>None</td>\n",
       "      <td>None</td>\n",
       "      <td>well let me say that i have always been a stev...</td>\n",
       "    </tr>\n",
       "    <tr>\n",
       "      <th>10312</th>\n",
       "      <td>pos</td>\n",
       "      <td>None</td>\n",
       "      <td>None</td>\n",
       "      <td>this is one military drama i like a lot! tom b...</td>\n",
       "    </tr>\n",
       "    <tr>\n",
       "      <th>22513</th>\n",
       "      <td>neg</td>\n",
       "      <td>None</td>\n",
       "      <td>None</td>\n",
       "      <td>my giving this a score of 3 is not what i woul...</td>\n",
       "    </tr>\n",
       "    <tr>\n",
       "      <th>12865</th>\n",
       "      <td>neg</td>\n",
       "      <td>None</td>\n",
       "      <td>None</td>\n",
       "      <td>i'm trying to picture the pitch for dark angel...</td>\n",
       "    </tr>\n",
       "    <tr>\n",
       "      <th>8699</th>\n",
       "      <td>pos</td>\n",
       "      <td>None</td>\n",
       "      <td>None</td>\n",
       "      <td>do not judge this production by the 2-hour ver...</td>\n",
       "    </tr>\n",
       "    <tr>\n",
       "      <th>6488</th>\n",
       "      <td>pos</td>\n",
       "      <td>None</td>\n",
       "      <td>None</td>\n",
       "      <td>maybe the movie itself isn't one of the best j...</td>\n",
       "    </tr>\n",
       "  </tbody>\n",
       "</table>\n",
       "</div>"
      ],
      "text/plain": [
       "      label pred_label prob_pos  \\\n",
       "9443    pos       None     None   \n",
       "20401   neg       None     None   \n",
       "8131    pos       None     None   \n",
       "17317   neg       None     None   \n",
       "22090   neg       None     None   \n",
       "10312   pos       None     None   \n",
       "22513   neg       None     None   \n",
       "12865   neg       None     None   \n",
       "8699    pos       None     None   \n",
       "6488    pos       None     None   \n",
       "\n",
       "                                                    text  \n",
       "9443   the movie is just plain fun....maybe more fun ...  \n",
       "20401  well to answer one persons's question of \"why ...  \n",
       "8131   .......playing kaddiddlehopper, col san fernan...  \n",
       "17317  i once thought that \"the stoned age\" was the w...  \n",
       "22090  well let me say that i have always been a stev...  \n",
       "10312  this is one military drama i like a lot! tom b...  \n",
       "22513  my giving this a score of 3 is not what i woul...  \n",
       "12865  i'm trying to picture the pitch for dark angel...  \n",
       "8699   do not judge this production by the 2-hour ver...  \n",
       "6488   maybe the movie itself isn't one of the best j...  "
      ]
     },
     "execution_count": 17,
     "metadata": {},
     "output_type": "execute_result"
    }
   ],
   "source": [
    "df_test.tail(10)"
   ]
  },
  {
   "cell_type": "markdown",
   "metadata": {},
   "source": [
    "# Strategy A: scikit-learn\n",
    "Build a custom model from scratch using sklearn (ngrams -> TFIDF -> LR)"
   ]
  },
  {
   "cell_type": "markdown",
   "metadata": {},
   "source": [
    "### Define the vectorizer, logistic regression model, and overall pipeline"
   ]
  },
  {
   "cell_type": "code",
   "execution_count": 18,
   "metadata": {
    "collapsed": false
   },
   "outputs": [],
   "source": [
    "vectorizer = sklearn.feature_extraction.text.TfidfVectorizer(\n",
    "                                                             max_features = int(1e5),  # max vocab size (pretty large)\n",
    "                                                             max_df = 0.50,\n",
    "                                                             sublinear_tf = True,\n",
    "                                                             use_idf = True,\n",
    "                                                             encoding = 'ascii',\n",
    "                                                             decode_error = 'replace',\n",
    "                                                             analyzer = 'word',\n",
    "                                                             ngram_range = (1,3),\n",
    "                                                             stop_words = 'english',\n",
    "                                                             lowercase = True,\n",
    "                                                             norm = 'l2',\n",
    "                                                             smooth_idf = True,\n",
    "                                                             )"
   ]
  },
  {
   "cell_type": "code",
   "execution_count": 19,
   "metadata": {
    "collapsed": true
   },
   "outputs": [],
   "source": [
    "lr = linear_model.SGDClassifier(\n",
    "                                alpha = 1e-5,\n",
    "                                average = 10,\n",
    "                                class_weight = 'balanced',\n",
    "                                epsilon = 0.15,\n",
    "                                eta0 = 0.0,\n",
    "                                fit_intercept = True,\n",
    "                                l1_ratio = 0.15,\n",
    "                                learning_rate = 'optimal',\n",
    "                                loss = 'log',\n",
    "                                n_iter = 5,\n",
    "                                n_jobs = -1,\n",
    "                                penalty = 'l2',\n",
    "                                power_t = 0.5,\n",
    "                                random_state = seed,\n",
    "                                shuffle = True,\n",
    "                                verbose = 0,\n",
    "                                warm_start = False,\n",
    "                               )"
   ]
  },
  {
   "cell_type": "code",
   "execution_count": 20,
   "metadata": {
    "collapsed": false
   },
   "outputs": [],
   "source": [
    "classifier = Pipeline([('vectorizer', vectorizer),\n",
    "                       ('logistic_regression', lr)\n",
    "                       ])"
   ]
  },
  {
   "cell_type": "markdown",
   "metadata": {},
   "source": [
    "### Fit the classifier"
   ]
  },
  {
   "cell_type": "code",
   "execution_count": 21,
   "metadata": {
    "collapsed": false
   },
   "outputs": [],
   "source": [
    "_ = classifier.fit(df_train['text'], df_train['label'])"
   ]
  },
  {
   "cell_type": "markdown",
   "metadata": {},
   "source": [
    "### Get predictions"
   ]
  },
  {
   "cell_type": "code",
   "execution_count": 22,
   "metadata": {
    "collapsed": false
   },
   "outputs": [],
   "source": [
    "pred_sk = classifier.predict(df_test['text'])\n",
    "y_true_sk = [lab2bin[ex] for ex in df_test['label']]\n",
    "proba_sk = classifier.predict_proba(df_test['text'])  # also get probas"
   ]
  },
  {
   "cell_type": "markdown",
   "metadata": {},
   "source": [
    "### Compute and plot ROC and AUC"
   ]
  },
  {
   "cell_type": "code",
   "execution_count": 24,
   "metadata": {
    "collapsed": false
   },
   "outputs": [
    {
     "data": {
      "image/png": "[encoded data removed]",
      "text/plain": [
       "<matplotlib.figure.Figure at 0x118076090>"
      ]
     },
     "metadata": {},
     "output_type": "display_data"
    },
    {
     "name": "stdout",
     "output_type": "stream",
     "text": [
      "Accuracy: 0.8300\n"
     ]
    }
   ],
   "source": [
    "cname = base_model_name + \"_sklearn\"\n",
    "plt.figure(figsize=(8,8))\n",
    "probas_sk = []\n",
    "y_pred_labels_sk = []\n",
    "y_pred_sk = []\n",
    "\n",
    "# get predictions\n",
    "for i, pred in enumerate(pred_sk):\n",
    "    proba_pos = proba_sk[i][1]\n",
    "    probas_sk.append(proba_pos)\n",
    "    if float(proba_pos) >= 0.50:\n",
    "        pred_label = \"pos\"\n",
    "    elif float(proba_pos) < 0.50:\n",
    "        pred_label = \"neg\"\n",
    "    else:\n",
    "        print(\"ERROR on example %d\" % i)  # if this happens, need to fix something\n",
    "    y_pred_labels_sk.append(pred_label)\n",
    "    y_pred_sk.append(lab2bin[pred_label])\n",
    "\n",
    "# compute ROC\n",
    "fpr, tpr, thresholds = metrics.roc_curve(y_true_sk, probas_sk)\n",
    "roc_auc = metrics.auc(fpr, tpr)\n",
    "plt.plot(fpr, tpr, lw = 1, label = \"ROC area = %0.3f\" % (roc_auc))\n",
    "plt.plot([0, 1], [0, 1], '--', color=(0.5, 0.5, 0.5), label='random')\n",
    "\n",
    "plt.xlim([-0.05, 1.05])\n",
    "plt.ylim([-0.05, 1.05])\n",
    "plt.xlabel('False Positive Rate')\n",
    "plt.ylabel('True Positive Rate')\n",
    "plt.title(\"%d training examples\" % len(examples))\n",
    "\n",
    "plt.legend(loc=\"lower right\")\n",
    "plt.savefig(os.path.abspath(os.path.join(output_path, cname + \"_ROC\" + \".png\")))\n",
    "plt.show()\n",
    "\n",
    "acc = metrics.accuracy_score(y_true_sk, y_pred_sk)\n",
    "print(\"Accuracy: %.4f\" % (acc))"
   ]
  },
  {
   "cell_type": "markdown",
   "metadata": {},
   "source": [
    "# Put examples data into batches, for APIs"
   ]
  },
  {
   "cell_type": "markdown",
   "metadata": {},
   "source": [
    "### Prepare batches of training examples"
   ]
  },
  {
   "cell_type": "code",
   "execution_count": 25,
   "metadata": {
    "collapsed": false
   },
   "outputs": [],
   "source": [
    "examples = [list(ex) for ex in zip(df_train['text'], df_train['label'])]\n",
    "batches = [b for b in batcher(examples, batchsize)]  # stores in memory, but the texts are small so no problem"
   ]
  },
  {
   "cell_type": "markdown",
   "metadata": {},
   "source": [
    "### Prepare batches of test examples"
   ]
  },
  {
   "cell_type": "code",
   "execution_count": 26,
   "metadata": {
    "collapsed": true
   },
   "outputs": [],
   "source": [
    "test_examples = [list(ex) for ex in zip(df_test['text'], df_test['label'])]  # test data\n",
    "test_batches = [b for b in batcher(test_examples, batchsize)] "
   ]
  },
  {
   "cell_type": "markdown",
   "metadata": {},
   "source": [
    "# Strategy B. Pre-trained sentiment HQ"
   ]
  },
  {
   "cell_type": "code",
   "execution_count": 27,
   "metadata": {
    "collapsed": false
   },
   "outputs": [
    {
     "name": "stderr",
     "output_type": "stream",
     "text": []
    }
   ],
   "source": [
    "# get predictions from sentiment-HQ API\n",
    "cname = base_model_name + \"hq\"\n",
    "predictions_hq = []\n",
    "for batch in tqdm(test_batches):\n",
    "    labels = [x[1] for x in batch]\n",
    "    texts = [x[0] for x in batch]\n",
    "    results = indicoio.sentiment_hq(texts)\n",
    "    for i, result in enumerate(results):\n",
    "        r = {}\n",
    "        r['label'] = labels[i]\n",
    "        r['text'] = texts[i]\n",
    "        r['proba'] = result\n",
    "        predictions_hq.append(r)"
   ]
  },
  {
   "cell_type": "code",
   "execution_count": 28,
   "metadata": {
    "collapsed": false
   },
   "outputs": [
    {
     "data": {
      "image/png": "[encoded data removed]",
      "text/plain": [
       "<matplotlib.figure.Figure at 0x116566710>"
      ]
     },
     "metadata": {},
     "output_type": "display_data"
    },
    {
     "name": "stdout",
     "output_type": "stream",
     "text": [
      "Accuracy: 0.9200\n"
     ]
    }
   ],
   "source": [
    "cname = base_model_name + \"_hq\"\n",
    "plt.figure(figsize=(8,8))\n",
    "# y_true = [df_test['label']]\n",
    "probas = []\n",
    "y_true = []\n",
    "y_pred_labels = []\n",
    "y_pred = []\n",
    "\n",
    "for i, pred in enumerate(predictions_hq):\n",
    "    y_true.append(lab2bin[pred['label']])\n",
    "    proba = pred['proba']\n",
    "    probas.append(proba)\n",
    "    if float(proba) >= 0.50:\n",
    "        pl = 'pos'\n",
    "    elif float(proba) < 0.50:\n",
    "        pl= 'neg'\n",
    "    else:\n",
    "        print(\"Error. Check proba value and y_true logic\")\n",
    "    pred_label = pl # pick the most likely class by predicted proba\n",
    "    y_pred_labels.append(pred_label) \n",
    "    y_pred.append(lab2bin[pred_label])\n",
    "    \n",
    "fpr, tpr, thresholds = metrics.roc_curve(y_true, probas)\n",
    "roc_auc = metrics.auc(fpr, tpr)\n",
    "plt.plot(fpr, tpr, lw = 1, label = \"ROC area = %0.3f\" % (roc_auc))\n",
    "plt.plot([0, 1], [0, 1], '--', color=(0.5, 0.5, 0.5), label='random')\n",
    "\n",
    "plt.xlim([-0.05, 1.05])\n",
    "plt.ylim([-0.05, 1.05])\n",
    "plt.xlabel('False Positive Rate')\n",
    "plt.ylabel('True Positive Rate')\n",
    "# plt.title(\"ROC plot model: '%s'\" % cname)\n",
    "plt.title(\"%d training examples\" % len(examples))\n",
    "\n",
    "plt.legend(loc=\"lower right\")\n",
    "# plt.savefig(os.path.abspath(cname + \"_hq_ROC\" + \".png\"))\n",
    "plt.savefig(os.path.abspath(os.path.join(output_path, cname + \"_ROC\" + \".png\")))\n",
    "plt.show()\n",
    "acc = metrics.accuracy_score(y_true, y_pred)\n",
    "print(\"Accuracy: %.4f\" % (acc))"
   ]
  },
  {
   "cell_type": "markdown",
   "metadata": {},
   "source": [
    "# Strategy C. Custom model using general text features."
   ]
  },
  {
   "cell_type": "markdown",
   "metadata": {},
   "source": [
    "### Create an indico custom collection using general (word-level) text features, and upload data"
   ]
  },
  {
   "cell_type": "code",
   "execution_count": 29,
   "metadata": {
    "collapsed": false
   },
   "outputs": [
    {
     "name": "stdout",
     "output_type": "stream",
     "text": [
      "This model will be cached as an indico custom collection using the name: 'sentiment_train100_test100'\n"
     ]
    },
    {
     "name": "stderr",
     "output_type": "stream",
     "text": [
      "\r",
      "  0%|          | 0/4 [00:00<?, ?it/s]"
     ]
    },
    {
     "name": "stdout",
     "output_type": "stream",
     "text": [
      " Error, probably because a collection with the given name didn't exist. Continuing...\n",
      " Submitting 100 training examples in 4 batches...\n"
     ]
    },
    {
     "name": "stderr",
     "output_type": "stream",
     "text": []
    },
    {
     "name": "stdout",
     "output_type": "stream",
     "text": [
      "  training model: 'sentiment_train100_test100'\n"
     ]
    }
   ],
   "source": [
    "cname = base_model_name\n",
    "print(\"This model will be cached as an indico custom collection using the name: '%s'\" % cname)\n",
    "collection = Collection(cname)\n",
    "try:\n",
    "    collection.clear()  # delete any previous data in this collection\n",
    "    collection.info()\n",
    "    collection = Collection(cname)\n",
    "except:\n",
    "    print(\" Error, probably because a collection with the given name didn't exist. Continuing...\")\n",
    "print(\" Submitting %d training examples in %d batches...\" % (len(examples), len(batches)))\n",
    "for batch in tqdm(batches):\n",
    "    try:\n",
    "        collection.add_data(batch)\n",
    "    except Exception as e:\n",
    "        print(\"Exception: '%s' for batch:\" % e)\n",
    "        pp.pprint(batch)\n",
    "\n",
    "print(\"  training model: '%s'\" % cname)\n",
    "collection.train()\n",
    "collection.wait() # blocks until the model is trained"
   ]
  },
  {
   "cell_type": "code",
   "execution_count": 30,
   "metadata": {
    "collapsed": false
   },
   "outputs": [
    {
     "name": "stderr",
     "output_type": "stream",
     "text": []
    }
   ],
   "source": [
    "# get predictions from the trained API model\n",
    "predictions = []\n",
    "cname = base_model_name\n",
    "collection = Collection(cname)\n",
    "for batch in tqdm(test_batches):\n",
    "    labels = [x[1] for x in batch]\n",
    "    texts = [x[0] for x in batch]\n",
    "    results = collection.predict(texts)\n",
    "    for i, result in enumerate(results):\n",
    "        r = {}\n",
    "        r['indico_result'] = result\n",
    "        r['label'] = labels[i]\n",
    "        r['text'] = texts[i]\n",
    "        r['proba'] = result['pos']\n",
    "        predictions.append(r)"
   ]
  },
  {
   "cell_type": "code",
   "execution_count": 31,
   "metadata": {
    "collapsed": false
   },
   "outputs": [
    {
     "name": "stdout",
     "output_type": "stream",
     "text": [
      "{   'indico_result': {   u'neg': 0.3364879404, u'pos': 0.6635120596},\n",
      "    'label': 'pos',\n",
      "    'proba': 0.6635120596,\n",
      "    'text': \"my personal opinion is that this movie had no real story line to the first john carpenter's vampires but i don't care i loved it. jon bon jovi (derek) was great in this movie. he really mad me believe that he was the person you would never think he was a famous rockstar. there were some bad things about this movie. like the story line,there should have been more to the movie.there should have been a sequel to the movie that followed the movies story line and they should have kept the same main characters in all three vampires movies. i really liked the clothes that the people wore and the setting they pick in mexico. i liked how it was old mexico and not new mexico. with the clay houses and the old fashion churches. i was a little confused with the vampires and how they were able to walk in churches but it was cool how they didn't follow dracula vampire rules.\"}\n"
     ]
    }
   ],
   "source": [
    "pp.pprint(predictions[0])  # sanity check"
   ]
  },
  {
   "cell_type": "markdown",
   "metadata": {},
   "source": [
    "### Draw ROC plot and compute metrics for the custom collection"
   ]
  },
  {
   "cell_type": "code",
   "execution_count": 32,
   "metadata": {
    "collapsed": false
   },
   "outputs": [
    {
     "data": {
      "image/png": "[encoded data removed]",
      "text/plain": [
       "<matplotlib.figure.Figure at 0x117365d90>"
      ]
     },
     "metadata": {},
     "output_type": "display_data"
    },
    {
     "name": "stdout",
     "output_type": "stream",
     "text": [
      "Accuracy: 0.8100\n"
     ]
    }
   ],
   "source": [
    "plt.figure(figsize=(8,8))\n",
    "probas = []\n",
    "y_true = []\n",
    "y_pred_labels = []\n",
    "y_pred = []\n",
    "for i, pred in enumerate(predictions):\n",
    "    y_true.append(lab2bin[pred['label']])\n",
    "    probas.append(pred['indico_result']['pos'])\n",
    "    pred_label = max(pred['indico_result'].keys(), key = (lambda x: pred['indico_result'][x])) # pick the most likely class by predicted proba\n",
    "    y_pred_labels.append(pred_label) \n",
    "    y_pred.append(lab2bin[pred_label])\n",
    "    \n",
    "fpr, tpr, thresholds = metrics.roc_curve(y_true, probas)\n",
    "roc_auc = metrics.auc(fpr, tpr)\n",
    "plt.plot(fpr, tpr, lw = 1, label = \"ROC area = %0.3f\" % (roc_auc))\n",
    "plt.plot([0, 1], [0, 1], '--', color=(0.5, 0.5, 0.5), label='random')\n",
    "\n",
    "plt.xlim([-0.05, 1.05])\n",
    "plt.ylim([-0.05, 1.05])\n",
    "plt.xlabel('False Positive Rate')\n",
    "plt.ylabel('True Positive Rate')\n",
    "plt.title(\"%d training examples\" % len(examples))\n",
    "plt.legend(loc=\"lower right\")\n",
    "plt.savefig(os.path.abspath(os.path.join(output_path, cname + \"_cc_ROC\" + \".png\")))\n",
    "plt.show()\n",
    "acc = metrics.accuracy_score(y_true, y_pred)\n",
    "print(\"Accuracy: %.4f\" % (acc))"
   ]
  },
  {
   "cell_type": "markdown",
   "metadata": {},
   "source": [
    "# Strategy D. Custom model using sentiment features from the pretrained deep neural network."
   ]
  },
  {
   "cell_type": "code",
   "execution_count": 33,
   "metadata": {
    "collapsed": false
   },
   "outputs": [
    {
     "name": "stdout",
     "output_type": "stream",
     "text": [
      "This model will be cached as an indico custom collection using the name: 'sentiment_train100_test100_domain'\n"
     ]
    },
    {
     "name": "stderr",
     "output_type": "stream",
     "text": [
      "\r",
      "  0%|          | 0/4 [00:00<?, ?it/s]"
     ]
    },
    {
     "name": "stdout",
     "output_type": "stream",
     "text": [
      " Error, probably because a collection with the given name didn't exist. Continuing...\n",
      " Submitting 100 training examples in 4 batches...\n"
     ]
    },
    {
     "name": "stderr",
     "output_type": "stream",
     "text": []
    },
    {
     "name": "stdout",
     "output_type": "stream",
     "text": [
      "  training model: 'sentiment_train100_test100_domain'\n"
     ]
    }
   ],
   "source": [
    "cname = base_model_name + \"_domain\"\n",
    "print(\"This model will be cached as an indico custom collection using the name: '%s'\" % cname)\n",
    "collection = Collection(cname, domain = \"sentiment\")\n",
    "try:\n",
    "    collection.clear()  # delete any previous data in this collection\n",
    "    collection.info()\n",
    "    collection = Collection(cname, domain = \"sentiment\")\n",
    "except:\n",
    "    print(\" Error, probably because a collection with the given name didn't exist. Continuing...\")\n",
    "print(\" Submitting %d training examples in %d batches...\" % (len(examples), len(batches)))\n",
    "for batch in tqdm(batches):\n",
    "    try:\n",
    "        collection.add_data(batch, domain = \"sentiment\")\n",
    "    except Exception as e:\n",
    "        print(\"Exception: '%s' for batch:\" % e)\n",
    "        pp.pprint(batch)\n",
    "\n",
    "print(\"  training model: '%s'\" % cname)\n",
    "collection.train()\n",
    "collection.wait()"
   ]
  },
  {
   "cell_type": "markdown",
   "metadata": {},
   "source": [
    "### Get predictions for custom collection with sentiment domain text features"
   ]
  },
  {
   "cell_type": "code",
   "execution_count": 34,
   "metadata": {
    "collapsed": false
   },
   "outputs": [
    {
     "name": "stderr",
     "output_type": "stream",
     "text": []
    }
   ],
   "source": [
    "# get predictions from trained API\n",
    "predictions_domain = []\n",
    "cname = base_model_name + \"_domain\"\n",
    "collection = Collection(cname, domain = \"sentiment\")\n",
    "for batch in tqdm(test_batches):\n",
    "    labels = [x[1] for x in batch]\n",
    "    texts = [x[0] for x in batch]\n",
    "    results = collection.predict(texts, domain = \"sentiment\")\n",
    "#     batchsize = len(batch)\n",
    "    for i, result in enumerate(results):\n",
    "        r = {}\n",
    "        r['indico_result'] = result\n",
    "        r['label'] = labels[i]\n",
    "        r['text'] = texts[i]\n",
    "        r['proba'] = result['pos']\n",
    "        predictions_domain.append(r)\n"
   ]
  },
  {
   "cell_type": "markdown",
   "metadata": {},
   "source": [
    "### Compute metrics and plot"
   ]
  },
  {
   "cell_type": "code",
   "execution_count": 35,
   "metadata": {
    "collapsed": false
   },
   "outputs": [
    {
     "data": {
      "image/png": "[encoded data removed]",
      "text/plain": [
       "<matplotlib.figure.Figure at 0x110d43e90>"
      ]
     },
     "metadata": {},
     "output_type": "display_data"
    },
    {
     "name": "stdout",
     "output_type": "stream",
     "text": [
      "Accuracy: 0.8900\n"
     ]
    }
   ],
   "source": [
    "cname = base_model_name + \"_domain\"\n",
    "plt.figure(figsize=(8,8))\n",
    "# y_true = [df_test['label']]\n",
    "probas = []\n",
    "y_true = []\n",
    "y_pred_labels = []\n",
    "y_pred = []\n",
    "for i, pred in enumerate(predictions_domain):\n",
    "    y_true.append(lab2bin[pred['label']])\n",
    "    probas.append(pred['indico_result']['pos'])\n",
    "    pred_label = max(pred['indico_result'].keys(), key = (lambda x: pred['indico_result'][x])) # pick the most likely class by predicted proba\n",
    "    y_pred_labels.append(pred_label) \n",
    "    y_pred.append(lab2bin[pred_label])\n",
    "    \n",
    "fpr, tpr, thresholds = metrics.roc_curve(y_true, probas)\n",
    "roc_auc = metrics.auc(fpr, tpr)\n",
    "plt.plot(fpr, tpr, lw = 1, label = \"ROC area = %0.3f\" % (roc_auc))\n",
    "plt.plot([0, 1], [0, 1], '--', color=(0.5, 0.5, 0.5), label='random')\n",
    "\n",
    "plt.xlim([-0.05, 1.05])\n",
    "plt.ylim([-0.05, 1.05])\n",
    "plt.xlabel('False Positive Rate')\n",
    "plt.ylabel('True Positive Rate')\n",
    "# plt.title(\"ROC plot model: '%s'\" % cname)\n",
    "plt.title(\"%d training examples\" % len(examples))\n",
    "\n",
    "plt.legend(loc=\"lower right\")\n",
    "# plt.savefig(os.path.abspath(cname + \"_cc_domain_ROC\" + \".png\"))\n",
    "plt.savefig(os.path.abspath(os.path.join(output_path, cname + \"_ROC\" + \".png\")))\n",
    "plt.show()\n",
    "acc = metrics.accuracy_score(y_true, y_pred)\n",
    "print(\"Accuracy: %.4f\" % (acc))"
   ]
  },
  {
   "cell_type": "markdown",
   "metadata": {},
   "source": [
    "# Sanity check on results for all 4 strategies\n",
    "Compare the first prediction for each to make sure all the right stuff is there..."
   ]
  },
  {
   "cell_type": "code",
   "execution_count": 36,
   "metadata": {
    "collapsed": false
   },
   "outputs": [
    {
     "name": "stdout",
     "output_type": "stream",
     "text": [
      "Strategy A. Custom sklearn model using n-grams, TFIDF, LR:\n",
      "1\n",
      "pos\n",
      "[ 0.31613178  0.68386822]\n",
      "\n",
      "Strategy B. Sentiment HQ:\n",
      "{   'label': 'pos',\n",
      "    'proba': 0.8126749992000001,\n",
      "    'text': \"my personal opinion is that this movie had no real story line to the first john carpenter's vampires but i don't care i loved it. jon bon jovi (derek) was great in this movie. he really mad me believe that he was the person you would never think he was a famous rockstar. there were some bad things about this movie. like the story line,there should have been more to the movie.there should have been a sequel to the movie that followed the movies story line and they should have kept the same main characters in all three vampires movies. i really liked the clothes that the people wore and the setting they pick in mexico. i liked how it was old mexico and not new mexico. with the clay houses and the old fashion churches. i was a little confused with the vampires and how they were able to walk in churches but it was cool how they didn't follow dracula vampire rules.\"}\n",
      "Strategy C. Custom collection using general text features:\n",
      "{   'indico_result': {   u'neg': 0.3364879404, u'pos': 0.6635120596},\n",
      "    'label': 'pos',\n",
      "    'proba': 0.6635120596,\n",
      "    'text': \"my personal opinion is that this movie had no real story line to the first john carpenter's vampires but i don't care i loved it. jon bon jovi (derek) was great in this movie. he really mad me believe that he was the person you would never think he was a famous rockstar. there were some bad things about this movie. like the story line,there should have been more to the movie.there should have been a sequel to the movie that followed the movies story line and they should have kept the same main characters in all three vampires movies. i really liked the clothes that the people wore and the setting they pick in mexico. i liked how it was old mexico and not new mexico. with the clay houses and the old fashion churches. i was a little confused with the vampires and how they were able to walk in churches but it was cool how they didn't follow dracula vampire rules.\"}\n",
      "\n",
      "Strategy D. Custom collection using sentiment features:\n",
      "{   'indico_result': {   u'neg': 0.2067858603, u'pos': 0.7932141397},\n",
      "    'label': 'pos',\n",
      "    'proba': 0.7932141397,\n",
      "    'text': \"my personal opinion is that this movie had no real story line to the first john carpenter's vampires but i don't care i loved it. jon bon jovi (derek) was great in this movie. he really mad me believe that he was the person you would never think he was a famous rockstar. there were some bad things about this movie. like the story line,there should have been more to the movie.there should have been a sequel to the movie that followed the movies story line and they should have kept the same main characters in all three vampires movies. i really liked the clothes that the people wore and the setting they pick in mexico. i liked how it was old mexico and not new mexico. with the clay houses and the old fashion churches. i was a little confused with the vampires and how they were able to walk in churches but it was cool how they didn't follow dracula vampire rules.\"}\n",
      "\n"
     ]
    }
   ],
   "source": [
    "print(\"Strategy A. Custom sklearn model using n-grams, TFIDF, LR:\")\n",
    "print(y_true_sk[0])\n",
    "print(pred_sk[0])\n",
    "print(proba_sk[0])\n",
    "print(\"\")\n",
    "\n",
    "print(\"Strategy B. Sentiment HQ:\")\n",
    "pp.pprint(predictions_hq[0])\n",
    "\n",
    "print(\"Strategy C. Custom collection using general text features:\")\n",
    "pp.pprint(predictions[0])\n",
    "print(\"\")\n",
    "\n",
    "print(\"Strategy D. Custom collection using sentiment features:\")\n",
    "pp.pprint(predictions_domain[0])\n",
    "print(\"\")\n",
    "\n"
   ]
  },
  {
   "cell_type": "markdown",
   "metadata": {},
   "source": [
    "# Compute overall metrics and plot"
   ]
  },
  {
   "cell_type": "code",
   "execution_count": 39,
   "metadata": {
    "collapsed": false
   },
   "outputs": [
    {
     "data": {
      "image/png": "[encoded data removed]",
      "text/plain": [
       "<matplotlib.figure.Figure at 0x1186381d0>"
      ]
     },
     "metadata": {},
     "output_type": "display_data"
    }
   ],
   "source": [
    "plt.figure(figsize=(10,10))\n",
    "cname = base_model_name\n",
    "\n",
    "# compute and draw curve for sklearn LR built from scratch\n",
    "probas_sk = []\n",
    "y_pred_labels_sk = []\n",
    "y_pred_sk = []\n",
    "for i, pred in enumerate(pred_sk):\n",
    "    proba_pos = proba_sk[i][1]\n",
    "    probas_sk.append(proba_pos)\n",
    "    if float(proba_pos) >= 0.50:\n",
    "        pred_label = \"pos\"\n",
    "    elif float(proba_pos) < 0.50:\n",
    "        pred_label = \"neg\"\n",
    "    else:\n",
    "        print(\"ERROR on example %d\" % i)    \n",
    "    y_pred_labels_sk.append(pred_label)\n",
    "    y_pred_sk.append(lab2bin[pred_label])\n",
    "fpr_sk, tpr_sk, thresholds_sk = metrics.roc_curve(y_true_sk, probas_sk)\n",
    "roc_auc_sk = metrics.auc(fpr_sk, tpr_sk)\n",
    "plt.plot(fpr_sk, tpr_sk, lw = 2, color = \"#a5acaf\", label = \"A. Custom sklearn ngram LR model; area = %0.3f\" % roc_auc_sk)\n",
    "\n",
    "# compute and draw curve for sentimentHQ\n",
    "probas_s = []\n",
    "y_true_s = []\n",
    "y_pred_labels_s = []\n",
    "y_pred_s = []\n",
    "for i, pred in enumerate(predictions_hq):\n",
    "    y_true_s.append(lab2bin[pred['label']])\n",
    "    probas_s.append(pred['proba'])\n",
    "    if float(pred['proba']) >= 0.50:\n",
    "        pred_label = \"pos\"\n",
    "    elif float(pred['proba']) < 0.50:\n",
    "        pred_label = \"neg\"\n",
    "    else:\n",
    "        print(\"ERROR on example %d\" % i)\n",
    "    y_pred_labels_s.append(pred_label)\n",
    "    y_pred_s.append(lab2bin[pred_label])\n",
    "fpr_s, tpr_s, thresholds_s = metrics.roc_curve(y_true_s, probas_s)\n",
    "roc_auc_s = metrics.auc(fpr_s, tpr_s)\n",
    "plt.plot(fpr_s, tpr_s, lw = 2, color = \"#b05ecc\", label = \"B. Sentiment HQ model; area = %0.3f\" % roc_auc_s)\n",
    "\n",
    "# Compute and draw curve for the custom collection using general text features\n",
    "probas = []\n",
    "y_true = []\n",
    "y_pred_labels = []\n",
    "y_pred = []\n",
    "lab2bin = {'pos': 1,\n",
    "           'neg': 0}\n",
    "for i, pred in enumerate(predictions):\n",
    "    y_true.append(lab2bin[pred['label']])\n",
    "    probas.append(pred['indico_result']['pos'])\n",
    "    pred_label = max(pred['indico_result'].keys(), key = (lambda x: pred['indico_result'][x])) # pick the most likely class by predicted proba\n",
    "    y_pred_labels.append(pred_label) \n",
    "    y_pred.append(lab2bin[pred_label])\n",
    "    \n",
    "fpr, tpr, thresholds = metrics.roc_curve(y_true, probas)\n",
    "roc_auc = metrics.auc(fpr, tpr)\n",
    "plt.plot(fpr, tpr, lw = 2, color = \"#ffbb3b\", label = \"C. Custom IMDB model using general text features; area = %0.3f\" % (roc_auc))\n",
    "\n",
    "\n",
    "# now compute and draw curve for the CC using sentiment text features\n",
    "probas_d = []\n",
    "y_true_d = []\n",
    "y_pred_labels_d = []\n",
    "y_pred_d = []\n",
    "for i, pred in enumerate(predictions_domain):\n",
    "    y_true_d.append(lab2bin[pred['label']])\n",
    "    probas_d.append(pred['indico_result']['pos'])\n",
    "    pred_label = max(pred['indico_result'].keys(), key = (lambda x: pred['indico_result'][x]))\n",
    "    y_pred_labels_d.append(pred_label)\n",
    "    y_pred_d.append(lab2bin[pred_label])\n",
    "fpr_d, tpr_d, thresholds_d = metrics.roc_curve(y_true_d, probas_d)\n",
    "roc_auc_d = metrics.auc(fpr_d, tpr_d)\n",
    "plt.plot(fpr_d, tpr_d, lw = 2, color = \"#43b9af\", label = \"D. Custom IMDB model using sentiment text features; area = %0.3f\" % roc_auc_d)\n",
    "\n",
    "\n",
    "# Add other stuff to figure\n",
    "plt.plot([0, 1], [0, 1], '--', color=(0.5, 0.5, 0.5), label='random')\n",
    "\n",
    "plt.xlim([-0.05, 1.05])\n",
    "plt.ylim([-0.05, 1.05])\n",
    "plt.xlabel('False Positive Rate')\n",
    "plt.ylabel('True Positive Rate')\n",
    "# plt.title(\"ROC: %d training examples\" % len(examples))\n",
    "plt.title(\"%d training examples\" % len(examples))\n",
    "\n",
    "plt.legend(loc=\"lower right\")\n",
    "plt.savefig(os.path.abspath(os.path.join(output_path, cname + \"_comparison_ROC\" + \".png\")), dpi = 300)\n",
    "plt.show()"
   ]
  },
  {
   "cell_type": "markdown",
   "metadata": {},
   "source": [
    "## Accuracy metrics"
   ]
  },
  {
   "cell_type": "code",
   "execution_count": 45,
   "metadata": {
    "collapsed": false
   },
   "outputs": [
    {
     "name": "stdout",
     "output_type": "stream",
     "text": [
      "A. Sklearn model from scratch (sklearn) : 0.8300\n",
      "B. Sentiment HQ : 0.9200\n",
      "C. Custom model using general text features : 0.8100\n",
      "D. Custom model using sentiment text features : 0.8900\n"
     ]
    }
   ],
   "source": [
    "acc_sk = metrics.accuracy_score(y_true_sk, y_pred_sk)\n",
    "print(\"A. Sklearn model from scratch (sklearn) : %.4f\" % (acc_sk))\n",
    "\n",
    "acc_s = metrics.accuracy_score(y_true_s, y_pred_s)\n",
    "print(\"B. Sentiment HQ : %.4f\" % (acc_s))\n",
    "\n",
    "acc = metrics.accuracy_score(y_true, y_pred)\n",
    "print(\"C. Custom model using general text features : %.4f\" % (acc))\n",
    "\n",
    "acc_d = metrics.accuracy_score(y_true_d, y_pred_d)\n",
    "print(\"D. Custom model using sentiment text features : %.4f\" % (acc_d))\n",
    "\n",
    "# print(\"Using (%d, %d, %d, %d) examples\" % (len(y_pred), len(y_pred_d), len(y_pred_s), len(y_pred_sk)))"
   ]
  },
  {
   "cell_type": "code",
   "execution_count": null,
   "metadata": {
    "collapsed": true
   },
   "outputs": [],
   "source": []
  }
 ],
 "metadata": {
  "kernelspec": {
   "display_name": "Python 2",
   "language": "python",
   "name": "python2"
  },
  "language_info": {
   "codemirror_mode": {
    "name": "ipython",
    "version": 2
   },
   "file_extension": ".py",
   "mimetype": "text/x-python",
   "name": "python",
   "nbconvert_exporter": "python",
   "pygments_lexer": "ipython2",
   "version": "2.7.11"
  }
 },
 "nbformat": 4,
 "nbformat_minor": 0
}
